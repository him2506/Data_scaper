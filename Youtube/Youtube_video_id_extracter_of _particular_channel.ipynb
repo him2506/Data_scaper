{
 "cells": [
  {
   "cell_type": "code",
   "execution_count": 1,
   "metadata": {},
   "outputs": [],
   "source": [
    "#api_key = \"Your Youtube Api key\""
   ]
  },
  {
   "cell_type": "code",
   "execution_count": 20,
   "metadata": {},
   "outputs": [],
   "source": [
    "#pip install --upgrade google-api-python-client\n",
    "# Have to install google api for python only for first time"
   ]
  },
  {
   "cell_type": "code",
   "execution_count": 2,
   "metadata": {},
   "outputs": [],
   "source": [
    "from apiclient.discovery import build"
   ]
  },
  {
   "cell_type": "code",
   "execution_count": 3,
   "metadata": {},
   "outputs": [],
   "source": [
    "youtube = build('youtube', 'v3', developerKey=api_key)"
   ]
  },
  {
   "cell_type": "code",
   "execution_count": 8,
   "metadata": {},
   "outputs": [],
   "source": [
    "channel_id = 'UCCJsQKOKArvDksacfT2ryQw'\n",
    "# You can get channel id here-  https://www.youtube.com/watch?v=D12v4rTtiYM "
   ]
  },
  {
   "cell_type": "code",
   "execution_count": 9,
   "metadata": {},
   "outputs": [],
   "source": [
    "def get_channel_videos():\n",
    "    \n",
    "    # First finding playlist_id of Uploads playlist.\n",
    "    # Because every channel has this basic playlist by defalut.\n",
    "    res = youtube.channels().list(id= channel_id, \n",
    "                                  part='contentDetails').execute()\n",
    "    playlist_id = res['items'][0]['contentDetails']['relatedPlaylists']['uploads']\n",
    "    \n",
    "    videos = []\n",
    "    next_page_token = None\n",
    "    \n",
    "    while 1:\n",
    "        res = youtube.playlistItems().list(playlistId=playlist_id, \n",
    "                                           part='snippet', \n",
    "                                           maxResults=50,\n",
    "                                           pageToken=next_page_token).execute()\n",
    "        videos += res['items']\n",
    "        next_page_token = res.get('nextPageToken')\n",
    "        \n",
    "        if next_page_token is None:\n",
    "            break\n",
    "    \n",
    "    return videos"
   ]
  },
  {
   "cell_type": "code",
   "execution_count": 10,
   "metadata": {},
   "outputs": [],
   "source": [
    "videos = get_channel_videos()"
   ]
  },
  {
   "cell_type": "code",
   "execution_count": 11,
   "metadata": {},
   "outputs": [
    {
     "data": {
      "text/plain": [
       "765"
      ]
     },
     "execution_count": 11,
     "metadata": {},
     "output_type": "execute_result"
    }
   ],
   "source": [
    "# Total no of videos in channel\n",
    "len(videos)"
   ]
  },
  {
   "cell_type": "code",
   "execution_count": 12,
   "metadata": {},
   "outputs": [
    {
     "data": {
      "text/plain": [
       "[{'kind': 'youtube#playlistItem',\n",
       "  'etag': 'IrkghjmFJKqcOUfUew-fNe8xlUs',\n",
       "  'id': 'VVVDSnNRS09LQXJ2RGtzYWNmVDJyeVF3LnBmT2k5RGlLVTMw',\n",
       "  'snippet': {'publishedAt': '2021-06-29T00:30:15Z',\n",
       "   'channelId': 'UCCJsQKOKArvDksacfT2ryQw',\n",
       "   'title': '29 June 2021 | Daily Current Affairs MCQs by Harish Tiwari\\u200b\\u200b\\u200b\\u200b\\u200b\\u200b\\u200b',\n",
       "   'description': 'Daily Current Affairs 2021 | Current Affairs by Harish Tiwari | Current Affairs Today | World Affairs Current Affairs MCQs | World Affairs \\n\\n#CurrentAffairs2021 #CurrentAffairsToday #CurrentAffairs #SSCCurrentAffairs\\n\\nIn this video lecture, Harish Tiwari brings you \"29 June 2021 - Daily Current Affairs MCQs\".\\n\\nLink of the PDF - https://bit.ly/3w5sJqd\\nSSC Combat Link - https://unacademy.com/combat/ssc-exams/VLEMN\\n\\n🚀 Goal Special Class Page -  https://unacademy.onelink.me/081J/cee4ada2\\n🚀 Goal Combat Page-  https://unacademy.onelink.me/081J/d5f45005\\n🚀 Goal Subscription Page - https://unacademy.onelink.me/081J/f10db732\\n🚀  IOS -  https://unacademy.onelink.me/081J/db5cb37d\\n🚀 Android -  https://unacademy.onelink.me/081J/bbc79f0f\\n🚀Subscribe Today :- https://unacademy.onelink.me/081J/39bea711\\n\\nUnacademy Educator\\'s Feedback Form: 👉🏻 https://bit.ly/2STTD36\\n\\nHarish Tiwari and more top educators are teaching live on Unacademy.\\nUse Special Code “HTSIR10” to get 10% discount on your Unacademy Subscription.\\nFollow Harish Tiwari Sir on Unacademy:  https://unacademy.onelink.me/081J/844e3965\\n\\nDownload the Unacademy Learning App here:\\nAndroid: https://unacademy.onelink.me/081J/bbc79f0f\\niOS:  https://unacademy.onelink.me/081J/db5cb37d\\n\\nDo Subscribe and be a part of the community for more such lessons here: https://www.youtube.com/channel/UCCJsQKOKArvDksacfT2ryQw?sub_confirmation=1\\n\\nUnacademy Subscription Benefits:\\n\\n1. Learn from your favourite teacher\\n2. Dedicated DOUBT sessions\\n3. One Subscription, Unlimited Access\\n4. Real-time interaction with Teachers\\n5. You can ask doubts in the live class\\n6. Limited students\\n7. Download the videos & watch offline\\n4. Real-time interaction with Teachers\\n5. You can ask doubts in the live class\\n6. Limited students\\n7. Download the videos & watch offline',\n",
       "   'thumbnails': {'default': {'url': 'https://i.ytimg.com/vi/pfOi9DiKU30/default.jpg',\n",
       "     'width': 120,\n",
       "     'height': 90},\n",
       "    'medium': {'url': 'https://i.ytimg.com/vi/pfOi9DiKU30/mqdefault.jpg',\n",
       "     'width': 320,\n",
       "     'height': 180},\n",
       "    'high': {'url': 'https://i.ytimg.com/vi/pfOi9DiKU30/hqdefault.jpg',\n",
       "     'width': 480,\n",
       "     'height': 360},\n",
       "    'standard': {'url': 'https://i.ytimg.com/vi/pfOi9DiKU30/sddefault.jpg',\n",
       "     'width': 640,\n",
       "     'height': 480},\n",
       "    'maxres': {'url': 'https://i.ytimg.com/vi/pfOi9DiKU30/maxresdefault.jpg',\n",
       "     'width': 1280,\n",
       "     'height': 720}},\n",
       "   'channelTitle': 'World Affairs',\n",
       "   'playlistId': 'UUCJsQKOKArvDksacfT2ryQw',\n",
       "   'position': 0,\n",
       "   'resourceId': {'kind': 'youtube#video', 'videoId': 'pfOi9DiKU30'},\n",
       "   'videoOwnerChannelTitle': 'World Affairs',\n",
       "   'videoOwnerChannelId': 'UCCJsQKOKArvDksacfT2ryQw'}},\n",
       " {'kind': 'youtube#playlistItem',\n",
       "  'etag': '37JL5gOTxwG4b5mqPIOTklvlBv8',\n",
       "  'id': 'VVVDSnNRS09LQXJ2RGtzYWNmVDJyeVF3LkNWMVpvU0I5TWE4',\n",
       "  'snippet': {'publishedAt': '2021-06-28T17:16:28Z',\n",
       "   'channelId': 'UCCJsQKOKArvDksacfT2ryQw',\n",
       "   'title': 'Imran Khan’s aide made Secret visit to Israel and met MOSSAD Chief',\n",
       "   'description': '#Israel #Pakistan #India\\n#World_Affairs #Prashant_Dhawan\\n\\nIn this video lecture, Prashant Dhawan brings you \"Imran Khan’s aide made Secret visit to Israel and met MOSSAD Chief\".\\n\\nLink of the PDF: https://bit.ly/3xZdNva\\nWorld Affairs 3.0 UPSC CSE - https://unacademy.com/test-series/world-affairs-30-upsc-cse/YZMGBHOJ\\n\\n🚀Goal Subscription Page : https://unacademy.onelink.me/081J/5d36e784\\n🚀Goal Special Class Page: https://unacademy.onelink.me/081J/7966eed3\\n🚀Goal Combat Page : https://unacademy.onelink.me/081J/9e0fa3fb\\n🚀IOS : https://unacademy.onelink.me/081J/77d9587c\\n🚀Andriod: https://unacademy.onelink.me/081J/223ac76c\\n\\n🚀Subscribe Today: https://unacademy.onelink.me/081J/39bea711\\n\\nPrashant Dhawan and more top educators are teaching live on Unacademy.\\nUse Special Code “PD10” to get 10% discount on your Unacademy Subscription.\\nSubscribe today - https://unacademy.com/plus/goal/KSCGY\\n\\nLink of the Playlist: https://www.youtube.com/playlist?list=PLLv9XAzj8u4guJZlFwJSrQJws8G7jC3LA\\n\\nPrashant Dhawan\\'s course link: https://unacademy.com/@prashant.dhawan\\n\\nDownload the Unacademy Learning App here:\\nAndroid: https://goo.gl/02OhYI\\niOS: https://goo.gl/efbytP\\n\\nDo Subscribe and be a part of the community for more such lessons here: https://www.youtube.com/channel/UCCJsQKOKArvDksacfT2ryQw?sub_confirmation=1\\n\\nUnacademy Subscription Benefits:\\n\\n1. Learn from your favourite teacher\\n2. Dedicated DOUBT sessions\\n3. One Subscription, Unlimited Access\\n4. Real-time interaction with Teachers\\n5. You can ask doubts in the live class\\n6. Limited students\\n7. Download the videos & watch offline',\n",
       "   'thumbnails': {'default': {'url': 'https://i.ytimg.com/vi/CV1ZoSB9Ma8/default.jpg',\n",
       "     'width': 120,\n",
       "     'height': 90},\n",
       "    'medium': {'url': 'https://i.ytimg.com/vi/CV1ZoSB9Ma8/mqdefault.jpg',\n",
       "     'width': 320,\n",
       "     'height': 180},\n",
       "    'high': {'url': 'https://i.ytimg.com/vi/CV1ZoSB9Ma8/hqdefault.jpg',\n",
       "     'width': 480,\n",
       "     'height': 360},\n",
       "    'standard': {'url': 'https://i.ytimg.com/vi/CV1ZoSB9Ma8/sddefault.jpg',\n",
       "     'width': 640,\n",
       "     'height': 480},\n",
       "    'maxres': {'url': 'https://i.ytimg.com/vi/CV1ZoSB9Ma8/maxresdefault.jpg',\n",
       "     'width': 1280,\n",
       "     'height': 720}},\n",
       "   'channelTitle': 'World Affairs',\n",
       "   'playlistId': 'UUCJsQKOKArvDksacfT2ryQw',\n",
       "   'position': 1,\n",
       "   'resourceId': {'kind': 'youtube#video', 'videoId': 'CV1ZoSB9Ma8'},\n",
       "   'videoOwnerChannelTitle': 'World Affairs',\n",
       "   'videoOwnerChannelId': 'UCCJsQKOKArvDksacfT2ryQw'}}]"
      ]
     },
     "execution_count": 12,
     "metadata": {},
     "output_type": "execute_result"
    }
   ],
   "source": [
    "# varifying the data we get.\n",
    "videos[0:2]"
   ]
  },
  {
   "cell_type": "code",
   "execution_count": 29,
   "metadata": {},
   "outputs": [
    {
     "data": {
      "text/plain": [
       "'9Gg3oC_vGHA'"
      ]
     },
     "execution_count": 29,
     "metadata": {},
     "output_type": "execute_result"
    }
   ],
   "source": [
    "videos[0]['snippet']['resourceId']['videoId']"
   ]
  },
  {
   "cell_type": "code",
   "execution_count": 30,
   "metadata": {},
   "outputs": [],
   "source": [
    "# storing all video ids in a list\n",
    "videos_id_list = []\n",
    "for video in videos:\n",
    "        videos_id_list.append(video['snippet']['resourceId']['videoId'])"
   ]
  },
  {
   "cell_type": "code",
   "execution_count": 31,
   "metadata": {},
   "outputs": [],
   "source": [
    "# converting list into dataframe\n",
    "import pandas as pd\n",
    "df = pd.DataFrame(videos_id_list)"
   ]
  },
  {
   "cell_type": "code",
   "execution_count": 32,
   "metadata": {},
   "outputs": [],
   "source": [
    "# exporting the video ids in csv file format.\n",
    "df.to_csv('wordaffairs_yotube_videos_ids.csv', index=False)"
   ]
  },
  {
   "cell_type": "code",
   "execution_count": 35,
   "metadata": {},
   "outputs": [],
   "source": [
    "# Loading the videos id\n",
    "data = pd.read_csv('wordaffairs_yotube_videos_ids.csv')"
   ]
  },
  {
   "cell_type": "code",
   "execution_count": 36,
   "metadata": {},
   "outputs": [
    {
     "data": {
      "text/html": [
       "<div>\n",
       "<style scoped>\n",
       "    .dataframe tbody tr th:only-of-type {\n",
       "        vertical-align: middle;\n",
       "    }\n",
       "\n",
       "    .dataframe tbody tr th {\n",
       "        vertical-align: top;\n",
       "    }\n",
       "\n",
       "    .dataframe thead th {\n",
       "        text-align: right;\n",
       "    }\n",
       "</style>\n",
       "<table border=\"1\" class=\"dataframe\">\n",
       "  <thead>\n",
       "    <tr style=\"text-align: right;\">\n",
       "      <th></th>\n",
       "      <th>0</th>\n",
       "    </tr>\n",
       "  </thead>\n",
       "  <tbody>\n",
       "    <tr>\n",
       "      <th>0</th>\n",
       "      <td>9Gg3oC_vGHA</td>\n",
       "    </tr>\n",
       "    <tr>\n",
       "      <th>1</th>\n",
       "      <td>-YQoaGSxTcU</td>\n",
       "    </tr>\n",
       "    <tr>\n",
       "      <th>2</th>\n",
       "      <td>FDTdNRCyTPM</td>\n",
       "    </tr>\n",
       "    <tr>\n",
       "      <th>3</th>\n",
       "      <td>rYKCObf-mwc</td>\n",
       "    </tr>\n",
       "    <tr>\n",
       "      <th>4</th>\n",
       "      <td>focbd6NLZXU</td>\n",
       "    </tr>\n",
       "    <tr>\n",
       "      <th>...</th>\n",
       "      <td>...</td>\n",
       "    </tr>\n",
       "    <tr>\n",
       "      <th>757</th>\n",
       "      <td>HoOJGfgaOQY</td>\n",
       "    </tr>\n",
       "    <tr>\n",
       "      <th>758</th>\n",
       "      <td>YjKHAgFek7w</td>\n",
       "    </tr>\n",
       "    <tr>\n",
       "      <th>759</th>\n",
       "      <td>Ph3kslBQyIM</td>\n",
       "    </tr>\n",
       "    <tr>\n",
       "      <th>760</th>\n",
       "      <td>ZinLUkbL9bk</td>\n",
       "    </tr>\n",
       "    <tr>\n",
       "      <th>761</th>\n",
       "      <td>n5UKRGTMmXE</td>\n",
       "    </tr>\n",
       "  </tbody>\n",
       "</table>\n",
       "<p>762 rows × 1 columns</p>\n",
       "</div>"
      ],
      "text/plain": [
       "               0\n",
       "0    9Gg3oC_vGHA\n",
       "1    -YQoaGSxTcU\n",
       "2    FDTdNRCyTPM\n",
       "3    rYKCObf-mwc\n",
       "4    focbd6NLZXU\n",
       "..           ...\n",
       "757  HoOJGfgaOQY\n",
       "758  YjKHAgFek7w\n",
       "759  Ph3kslBQyIM\n",
       "760  ZinLUkbL9bk\n",
       "761  n5UKRGTMmXE\n",
       "\n",
       "[762 rows x 1 columns]"
      ]
     },
     "execution_count": 36,
     "metadata": {},
     "output_type": "execute_result"
    }
   ],
   "source": [
    "df"
   ]
  },
  {
   "cell_type": "code",
   "execution_count": null,
   "metadata": {},
   "outputs": [],
   "source": []
  }
 ],
 "metadata": {
  "kernelspec": {
   "display_name": "Python 3",
   "language": "python",
   "name": "python3"
  },
  "language_info": {
   "codemirror_mode": {
    "name": "ipython",
    "version": 3
   },
   "file_extension": ".py",
   "mimetype": "text/x-python",
   "name": "python",
   "nbconvert_exporter": "python",
   "pygments_lexer": "ipython3",
   "version": "3.8.5"
  }
 },
 "nbformat": 4,
 "nbformat_minor": 4
}
